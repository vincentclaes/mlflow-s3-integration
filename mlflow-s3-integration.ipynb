{
 "cells": [
  {
   "cell_type": "markdown",
   "id": "96dd48f5",
   "metadata": {},
   "source": [
    "# MLflow setup and get model from S3"
   ]
  },
  {
   "cell_type": "code",
   "execution_count": 4,
   "id": "3cc267fb",
   "metadata": {},
   "outputs": [
    {
     "name": "stdout",
     "output_type": "stream",
     "text": [
      "\u001b[31mERROR: Could not find a version that satisfies the requirement sqlite3 (from versions: none)\u001b[0m\r\n",
      "\u001b[31mERROR: No matching distribution found for sqlite3\u001b[0m\r\n"
     ]
    }
   ],
   "source": [
    "!pip install mlflow --quiet"
   ]
  },
  {
   "cell_type": "markdown",
   "id": "c0610cd9",
   "metadata": {},
   "source": [
    "__run in a terminal the mlflow server with slqite and s3 as backend__\n",
    "\n",
    "```mlflow server --backend-store-uri sqlite:///mydb.sqlite --default-artifact-root s3://mlflow-test-skh35j/backend```"
   ]
  },
  {
   "cell_type": "code",
   "execution_count": 27,
   "id": "6c5e9055",
   "metadata": {},
   "outputs": [],
   "source": [
    "mlflow.tracking.set_tracking_uri(uri=\"http://127.0.0.1:5000\")"
   ]
  },
  {
   "cell_type": "code",
   "execution_count": 28,
   "id": "73f56fea",
   "metadata": {},
   "outputs": [
    {
     "data": {
      "text/plain": [
       "'http://127.0.0.1:5000'"
      ]
     },
     "execution_count": 28,
     "metadata": {},
     "output_type": "execute_result"
    }
   ],
   "source": [
    "mlflow.tracking.get_tracking_uri()"
   ]
  },
  {
   "cell_type": "markdown",
   "id": "d01b9273",
   "metadata": {},
   "source": [
    "## Create a model"
   ]
  },
  {
   "cell_type": "code",
   "execution_count": 31,
   "id": "b643a47c",
   "metadata": {},
   "outputs": [],
   "source": [
    "!pip install sklearn --quiet\n",
    "!pip install boto3 --quiet"
   ]
  },
  {
   "cell_type": "code",
   "execution_count": 32,
   "id": "4a6ae8c8",
   "metadata": {},
   "outputs": [],
   "source": [
    "import mlflow\n",
    "from sklearn.datasets import load_iris\n",
    "from sklearn.linear_model import LinearRegression\n",
    "\n",
    "with mlflow.start_run():\n",
    "    # Loading the iris dataset in the iris variable\n",
    "    iris = load_iris()\n",
    "    # Setting X to be the sample data\n",
    "    X = iris.data\n",
    "    y = iris.target\n",
    "\n",
    "    classifier =  LinearRegression()\n",
    "    classifier.fit(X, y)\n",
    "\n",
    "    # See the internal coefficients(model) generated after training. This is used for classification.\n",
    "    classifier.coef_\n",
    "    mlflow.sklearn.log_model(classifier, \"dummy_classifier\")"
   ]
  },
  {
   "cell_type": "code",
   "execution_count": 36,
   "id": "47f3e129",
   "metadata": {},
   "outputs": [
    {
     "name": "stdout",
     "output_type": "stream",
     "text": [
      "Date                     Name    ID\r\n",
      "-----------------------  ------  --------------------------------\r\n",
      "2022-01-09 13:52:40 CET          55a489ca2a454a7692926ff8a63c7b5b\r\n",
      "2022-01-09 13:52:36 CET          4518fca20ce7489c9286a10374d6f768\r\n",
      "2022-01-09 13:52:21 CET          d3c0f06ffcc8484e99bf4e760c2693e8\r\n",
      "2022-01-09 13:52:16 CET          3423fa5e9115419d92f227f73758e5df\r\n",
      "2022-01-09 13:49:25 CET          c363cf68991142ecac9c128da3beacd8\r\n",
      "2022-01-09 13:48:49 CET          434268d335514f4fb748c8752949d8fe\r\n"
     ]
    }
   ],
   "source": [
    "!mlflow runs list --experiment-id 0"
   ]
  },
  {
   "cell_type": "markdown",
   "id": "dcc82a32",
   "metadata": {},
   "source": [
    "## Load a model from MLflow"
   ]
  },
  {
   "cell_type": "code",
   "execution_count": 39,
   "id": "c68a5e47",
   "metadata": {},
   "outputs": [
    {
     "data": {
      "text/plain": [
       "LinearRegression()"
      ]
     },
     "execution_count": 39,
     "metadata": {},
     "output_type": "execute_result"
    }
   ],
   "source": [
    "logged_model = 'runs:/1cd9275a9f9b4da18d72863afd210d89/dummy_classifier'\n",
    "mlflow.sklearn.load_model(model_uri=logged_model)"
   ]
  },
  {
   "cell_type": "markdown",
   "id": "30fb0e82",
   "metadata": {},
   "source": [
    "## Load a model from S3"
   ]
  },
  {
   "cell_type": "code",
   "execution_count": 40,
   "id": "236b8da0",
   "metadata": {},
   "outputs": [],
   "source": [
    "from mlflow.store.artifact.s3_artifact_repo import S3ArtifactRepository"
   ]
  },
  {
   "cell_type": "code",
   "execution_count": 55,
   "id": "8cdd0023",
   "metadata": {},
   "outputs": [],
   "source": [
    "mlflow_s3_artifact = S3ArtifactRepository(artifact_uri='s3://mlflow-test-skh35j/backend/0/1cd9275a9f9b4da18d72863afd210d89/artifacts')\n",
    "path_to_artifacts = mlflow_s3_artifact.download_artifacts(artifact_path='dummy_classifier')\n"
   ]
  },
  {
   "cell_type": "code",
   "execution_count": 56,
   "id": "0a4a97a1",
   "metadata": {},
   "outputs": [
    {
     "name": "stdout",
     "output_type": "stream",
     "text": [
      "total 32\r\n",
      "-rw-r--r--  1 vincent  staff  107 Jan  9 14:18 requirements.txt\r\n",
      "-rw-r--r--  1 vincent  staff  519 Jan  9 14:18 model.pkl\r\n",
      "-rw-r--r--  1 vincent  staff  220 Jan  9 14:18 conda.yaml\r\n",
      "-rw-r--r--  1 vincent  staff  360 Jan  9 14:18 MLmodel\r\n"
     ]
    }
   ],
   "source": [
    "!ls -lt $path_to_artifacts"
   ]
  },
  {
   "cell_type": "code",
   "execution_count": 57,
   "id": "c2ab1e7f",
   "metadata": {},
   "outputs": [
    {
     "data": {
      "text/plain": [
       "LinearRegression()"
      ]
     },
     "execution_count": 57,
     "metadata": {},
     "output_type": "execute_result"
    }
   ],
   "source": [
    "mlflow.sklearn.load_model(model_uri=path_to_artifacts)"
   ]
  },
  {
   "cell_type": "code",
   "execution_count": 58,
   "id": "a0a9960e",
   "metadata": {},
   "outputs": [
    {
     "name": "stdout",
     "output_type": "stream",
     "text": [
      "yeeey\n"
     ]
    }
   ],
   "source": [
    "print(\"yeeey\")"
   ]
  },
  {
   "cell_type": "code",
   "execution_count": null,
   "id": "4ea23e46",
   "metadata": {},
   "outputs": [],
   "source": []
  }
 ],
 "metadata": {
  "kernelspec": {
   "display_name": "Python 3 (ipykernel)",
   "language": "python",
   "name": "python3"
  },
  "language_info": {
   "codemirror_mode": {
    "name": "ipython",
    "version": 3
   },
   "file_extension": ".py",
   "mimetype": "text/x-python",
   "name": "python",
   "nbconvert_exporter": "python",
   "pygments_lexer": "ipython3",
   "version": "3.8.10"
  }
 },
 "nbformat": 4,
 "nbformat_minor": 5
}
